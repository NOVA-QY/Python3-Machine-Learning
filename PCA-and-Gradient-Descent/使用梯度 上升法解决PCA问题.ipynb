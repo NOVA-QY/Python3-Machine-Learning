{
 "cells": [
  {
   "cell_type": "markdown",
   "metadata": {},
   "source": [
    "## 主成分分析"
   ]
  },
  {
   "cell_type": "markdown",
   "metadata": {},
   "source": [
    "目标：求$w$,使得$f(X)={\\Large\\frac{1}{m}}\\displaystyle\\sum_{i=1}^{m}(X^{(i)}_1w_1+X^{(i)}_2w_2+\\cdots+X^{(i)}_nw_n)$ 最大"
   ]
  },
  {
   "cell_type": "markdown",
   "metadata": {},
   "source": [
    "${\\huge\\nabla f}\\quad=\\quad$$\\Large{\\begin{pmatrix}\n",
    "\\frac{\\partial f}{\\partial w_1}\\\\\n",
    "\\frac{\\partial f}{\\partial w_2}\\\\\n",
    "\\cdots\\\\\n",
    "\\frac{\\partial f}{\\partial w_n}\\\\\\end{pmatrix}}$$\n",
    "\\quad=\\quad{\\huge\\frac{2}{m}}$$\\Large{\\begin{pmatrix}\n",
    "\\displaystyle\\sum_{i=1}^{m}(X_1^{(i)}w_1+X_2^{(i)}w_2+\\cdots+X_n^{(i)}w_n)X_1^{(i)}\\\\\n",
    "\\displaystyle\\sum_{i=1}^{m}(X_1^{(i)}w_1+X_2^{(i)}w_2+\\cdots+X_n^{(i)}w_n)X_2^{(i)}\\\\\n",
    "\\cdots\\\\\n",
    "\\displaystyle\\sum_{i=1}^{m}(X_1^{(i)}w_1+X_2^{(i)}w_2+\\cdots+X_n^{(i)}w_n)X_n^{(i)}\\\\\\end{pmatrix}}$$\n",
    "$"
   ]
  },
  {
   "cell_type": "markdown",
   "metadata": {},
   "source": [
    "$=\\quad{\\huge\\frac{2}{m}}\\quad\n",
    "$$\\begin{pmatrix}\n",
    "\\displaystyle\\sum_{i=1}^{m}(X^{(i)}w)X_1^{(i)}\\\\\n",
    "\\displaystyle\\sum_{i=1}^{m}(X^{(i)}w)X_2^{(i)}\\\\\n",
    "\\cdots\\\\\n",
    "\\displaystyle\\sum_{i=1}^{m}(X^{(i)}w)X_n^{(i)}\\\\\n",
    "\\end{pmatrix}$$\n",
    "$"
   ]
  },
  {
   "cell_type": "markdown",
   "metadata": {},
   "source": [
    "再进一步进行向量化处理"
   ]
  },
  {
   "cell_type": "markdown",
   "metadata": {},
   "source": [
    "${\\large{\\Large\\frac{2}{m}}\\cdot(X^{(1)}w, X^{(2)}w, X^{(3)}w,\\cdots X^{(m)}w)}\\cdot\n",
    "$${\\large\\begin{pmatrix}\n",
    "X_1^{(1)}& X_2^{(1)} & X_3^{(1)} & \\cdots & X_n^{(1)}\\\\\n",
    "X_1^{(2)}& X_2^{(2)} & X_3^{(2)} & \\cdots & X_n^{(2)}\\\\\n",
    "X_1^{(3)}& X_2^{(3)} & X_3^{(3)} & \\cdots & X_n^{(3)}\\\\\n",
    "\\cdots & \\cdots & \\cdots & \\cdots & \\cdots\\\\\n",
    "X_1^{(m)}& X_2^{(m)} & X_3^{(m)} & \\cdots & X_n^{(m)}\\\\\n",
    "\\end{pmatrix}}$$\n",
    "\\quad=\\quad {\\large{\\Large\\frac{2}{m}}}\\cdot (Xw)^T\\cdot X$"
   ]
  },
  {
   "cell_type": "markdown",
   "metadata": {},
   "source": [
    "再进行一次转置，得到如下结果"
   ]
  },
  {
   "cell_type": "markdown",
   "metadata": {},
   "source": [
    "${\\large\\nabla f}\\quad=\\quad{\\huge\\frac{2}{m}}\\quad\n",
    "$$\\begin{pmatrix}\n",
    "\\displaystyle\\sum_{i=1}^{m}(X^{(i)}w)X_1^{(i)}\\\\\n",
    "\\displaystyle\\sum_{i=1}^{m}(X^{(i)}w)X_2^{(i)}\\\\\n",
    "\\cdots\\\\\n",
    "\\displaystyle\\sum_{i=1}^{m}(X^{(i)}w)X_n^{(i)}\\\\\n",
    "\\end{pmatrix}$$\\quad=\\quad {\\large{\\Large\\frac{2}{m}}}\\cdot X^T(Xw)\n",
    "$"
   ]
  },
  {
   "cell_type": "code",
   "execution_count": null,
   "metadata": {
    "collapsed": true
   },
   "outputs": [],
   "source": []
  }
 ],
 "metadata": {
  "kernelspec": {
   "display_name": "Python 3",
   "language": "python",
   "name": "python3"
  },
  "language_info": {
   "codemirror_mode": {
    "name": "ipython",
    "version": 3
   },
   "file_extension": ".py",
   "mimetype": "text/x-python",
   "name": "python",
   "nbconvert_exporter": "python",
   "pygments_lexer": "ipython3",
   "version": "3.6.3"
  }
 },
 "nbformat": 4,
 "nbformat_minor": 2
}
