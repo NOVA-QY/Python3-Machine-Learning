{
 "cells": [
  {
   "cell_type": "markdown",
   "metadata": {},
   "source": [
    "## 主成分分析(Principal Component Analysis)"
   ]
  },
  {
   "cell_type": "markdown",
   "metadata": {},
   "source": [
    "* 一个非监督学习的机器学习算法  \n",
    "* 主要用于数据的降维  \n",
    "* 通过降维，可以发现更便于人类理解的特征  \n",
    "* 其他应用：可视化、去噪"
   ]
  },
  {
   "cell_type": "markdown",
   "metadata": {},
   "source": [
    "如何找到这个让样本间间距最大的轴？  \n",
    "  \n",
    "如何定义样本间距？  \n",
    "  \n",
    "使用**方差(Variance)**：$\\Large Var(x)={\\huge{\\frac{1}{m}}}\\displaystyle\\sum_{i=1}^m(x_i-\\bar{x})^2$  \n",
    "  \n",
    "问题转化：  \n",
    "  \n",
    "找到一个轴，使得样本空间的所有点映射到这个轴后，方差最大  \n",
    "  \n",
    "步骤：\n",
    "  \n",
    "1.将样例的均值归0(demean)  \n",
    "上式化简为：（x为映射到新轴的坐标）  \n",
    "$\\Large Var(x)={\\huge{\\frac{1}{m}}}\\displaystyle\\sum_{i=1}^m x_i^2$  \n",
    "$\\Large\\bar{x}=0$  \n",
    "想求一个轴的方向$w=(w_1,w_2)$  \n",
    "使得所有样本映射到w后，有：  \n",
    "$\\Large Var(X_{project})=\\frac{1}{m}\\displaystyle\\sum_{i=1}^m\\lVert X_{project}^{(i)}\\rVert^2$\n"
   ]
  },
  {
   "cell_type": "markdown",
   "metadata": {},
   "source": [
    "## 目标"
   ]
  },
  {
   "cell_type": "markdown",
   "metadata": {},
   "source": [
    "求w，使得$\\quad\\Large Var(X_{project})=\\frac{1}{m}\\displaystyle\\sum_{i=1}^m(X^{(i)}\\cdot w)^2\\quad$最大  \n",
    "  \n",
    "$\\quad\\Large Var(X_{project})=\\frac{1}{m}\\displaystyle\\sum_{i=1}^m(X_1^{(i)}w_1+X_2^{(i)}w_2+\\cdots+X_n^{(i)}w_n)^2\\quad$"
   ]
  },
  {
   "cell_type": "markdown",
   "metadata": {},
   "source": [
    "一个目标函数的最优化问题，使用梯度上升法解决"
   ]
  }
 ],
 "metadata": {
  "kernelspec": {
   "display_name": "Python 3",
   "language": "python",
   "name": "python3"
  },
  "language_info": {
   "codemirror_mode": {
    "name": "ipython",
    "version": 3
   },
   "file_extension": ".py",
   "mimetype": "text/x-python",
   "name": "python",
   "nbconvert_exporter": "python",
   "pygments_lexer": "ipython3",
   "version": "3.6.3"
  }
 },
 "nbformat": 4,
 "nbformat_minor": 2
}
