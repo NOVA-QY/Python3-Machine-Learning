{
 "cells": [
  {
   "cell_type": "markdown",
   "metadata": {},
   "source": [
    "## 07 数据归一化处理\n",
    "不同尺度的数值可能对预测的结果产生较大的影响，需要将所有的数据映射到同一尺度 "
   ]
  },
  {
   "cell_type": "markdown",
   "metadata": {},
   "source": [
    "### 方案一：  \n",
    "### 最值归一化（Normalization）：  把所有数据映射到0~1之间  \n",
    "### $ \\Large {x_{scale}\\quad=\\quad\\frac{x-x_{min}}{x_{max}-x_{min}}}$   \n",
    "适用于分布有明显边界的情况；受outlier影响较大  \n",
    "### 方案二：\n",
    "### 均值方差归一化（Standardization）：  把所有数据归一到均值为0方差为1的分布中  \n",
    "### $ \\Large x_{scale}\\quad=\\quad\\frac{x-x_{mean}}{s}$  \n",
    "适用于数据分布无明显边界；有可能存在极端数值"
   ]
  },
  {
   "cell_type": "code",
   "execution_count": 1,
   "metadata": {
    "collapsed": true
   },
   "outputs": [],
   "source": [
    "import numpy as np\n",
    "import matplotlib.pyplot as plt"
   ]
  },
  {
   "cell_type": "markdown",
   "metadata": {},
   "source": [
    "## 最值归一化 Normalization"
   ]
  },
  {
   "cell_type": "code",
   "execution_count": 2,
   "metadata": {
    "collapsed": true
   },
   "outputs": [],
   "source": [
    "x = np.random.randint(0, 100, size=100)"
   ]
  },
  {
   "cell_type": "code",
   "execution_count": 3,
   "metadata": {},
   "outputs": [
    {
     "data": {
      "text/plain": [
       "array([ 5, 93, 46, 20, 18,  6, 78, 81, 97,  5, 43, 63, 33, 67, 19, 27, 20,\n",
       "        7, 99, 25, 16, 77, 56, 90, 88, 57, 67, 43, 92, 44,  4, 63, 81, 79,\n",
       "       16,  2, 57,  3, 52, 66, 25, 80, 30, 42, 90, 20,  1, 91, 14, 44, 59,\n",
       "       52, 28, 56, 50, 39, 73,  7, 88, 17, 33, 55, 62, 17, 32, 44, 55, 87,\n",
       "        1, 69, 17, 33, 12, 84, 53, 35,  8, 53, 51, 63,  6, 52, 78, 52, 41,\n",
       "       10, 33, 93, 33, 46, 22, 38, 68, 11, 49, 12, 53, 99, 56, 15])"
      ]
     },
     "execution_count": 3,
     "metadata": {},
     "output_type": "execute_result"
    }
   ],
   "source": [
    "x"
   ]
  },
  {
   "cell_type": "code",
   "execution_count": 4,
   "metadata": {},
   "outputs": [
    {
     "data": {
      "text/plain": [
       "array([0.04081633, 0.93877551, 0.45918367, 0.19387755, 0.17346939,\n",
       "       0.05102041, 0.78571429, 0.81632653, 0.97959184, 0.04081633,\n",
       "       0.42857143, 0.63265306, 0.32653061, 0.67346939, 0.18367347,\n",
       "       0.26530612, 0.19387755, 0.06122449, 1.        , 0.24489796,\n",
       "       0.15306122, 0.7755102 , 0.56122449, 0.90816327, 0.8877551 ,\n",
       "       0.57142857, 0.67346939, 0.42857143, 0.92857143, 0.43877551,\n",
       "       0.03061224, 0.63265306, 0.81632653, 0.79591837, 0.15306122,\n",
       "       0.01020408, 0.57142857, 0.02040816, 0.52040816, 0.66326531,\n",
       "       0.24489796, 0.80612245, 0.29591837, 0.41836735, 0.90816327,\n",
       "       0.19387755, 0.        , 0.91836735, 0.13265306, 0.43877551,\n",
       "       0.59183673, 0.52040816, 0.2755102 , 0.56122449, 0.5       ,\n",
       "       0.3877551 , 0.73469388, 0.06122449, 0.8877551 , 0.16326531,\n",
       "       0.32653061, 0.55102041, 0.62244898, 0.16326531, 0.31632653,\n",
       "       0.43877551, 0.55102041, 0.87755102, 0.        , 0.69387755,\n",
       "       0.16326531, 0.32653061, 0.1122449 , 0.84693878, 0.53061224,\n",
       "       0.34693878, 0.07142857, 0.53061224, 0.51020408, 0.63265306,\n",
       "       0.05102041, 0.52040816, 0.78571429, 0.52040816, 0.40816327,\n",
       "       0.09183673, 0.32653061, 0.93877551, 0.32653061, 0.45918367,\n",
       "       0.21428571, 0.37755102, 0.68367347, 0.10204082, 0.48979592,\n",
       "       0.1122449 , 0.53061224, 1.        , 0.56122449, 0.14285714])"
      ]
     },
     "execution_count": 4,
     "metadata": {},
     "output_type": "execute_result"
    }
   ],
   "source": [
    "(x - np.min(x)) / (np.max(x) - np.min(x))"
   ]
  },
  {
   "cell_type": "code",
   "execution_count": 5,
   "metadata": {
    "collapsed": true
   },
   "outputs": [],
   "source": [
    "# 对矩阵同样适用\n",
    "X = np.random.randint(0, 100, (50, 2))"
   ]
  },
  {
   "cell_type": "code",
   "execution_count": 6,
   "metadata": {},
   "outputs": [
    {
     "data": {
      "text/plain": [
       "array([[58, 21],\n",
       "       [ 4, 20],\n",
       "       [75, 76],\n",
       "       [77, 70],\n",
       "       [29, 62],\n",
       "       [43, 61],\n",
       "       [44, 24],\n",
       "       [68, 12],\n",
       "       [80, 63],\n",
       "       [ 3, 77]])"
      ]
     },
     "execution_count": 6,
     "metadata": {},
     "output_type": "execute_result"
    }
   ],
   "source": [
    "X[:10,:]"
   ]
  },
  {
   "cell_type": "code",
   "execution_count": 8,
   "metadata": {},
   "outputs": [],
   "source": [
    "# 转换为浮点型\n",
    "X = np.array(X, dtype=float)"
   ]
  },
  {
   "cell_type": "code",
   "execution_count": 9,
   "metadata": {},
   "outputs": [
    {
     "data": {
      "text/plain": [
       "array([[58., 21.],\n",
       "       [ 4., 20.],\n",
       "       [75., 76.],\n",
       "       [77., 70.],\n",
       "       [29., 62.],\n",
       "       [43., 61.],\n",
       "       [44., 24.],\n",
       "       [68., 12.],\n",
       "       [80., 63.],\n",
       "       [ 3., 77.]])"
      ]
     },
     "execution_count": 9,
     "metadata": {},
     "output_type": "execute_result"
    }
   ],
   "source": [
    "X[:10,:]"
   ]
  },
  {
   "cell_type": "code",
   "execution_count": 11,
   "metadata": {},
   "outputs": [],
   "source": [
    "X[:,0] = (X[:,0] - np.min(X[:,0])) / (np.max(X[:,0]) - np.min(X[:,0]))"
   ]
  },
  {
   "cell_type": "code",
   "execution_count": 12,
   "metadata": {
    "collapsed": true
   },
   "outputs": [],
   "source": [
    "X[:,1] = (X[:,1] - np.min(X[:,1])) / (np.max(X[:,1]) - np.min(X[:,1]))"
   ]
  },
  {
   "cell_type": "code",
   "execution_count": 14,
   "metadata": {},
   "outputs": [
    {
     "data": {
      "image/png": "[encoded data removed]",
      "text/plain": [
       "<matplotlib.figure.Figure at 0x246361ca048>"
      ]
     },
     "metadata": {},
     "output_type": "display_data"
    }
   ],
   "source": [
    "plt.scatter(X[:,0], X[:,1])\n",
    "plt.show()"
   ]
  },
  {
   "cell_type": "code",
   "execution_count": 15,
   "metadata": {},
   "outputs": [
    {
     "data": {
      "text/plain": [
       "0.5002083333333333"
      ]
     },
     "execution_count": 15,
     "metadata": {},
     "output_type": "execute_result"
    }
   ],
   "source": [
    "np.mean(X[:,0])"
   ]
  },
  {
   "cell_type": "code",
   "execution_count": 16,
   "metadata": {},
   "outputs": [
    {
     "data": {
      "text/plain": [
       "0.2905446424150876"
      ]
     },
     "execution_count": 16,
     "metadata": {},
     "output_type": "execute_result"
    }
   ],
   "source": [
    "np.std(X[:,0])"
   ]
  },
  {
   "cell_type": "code",
   "execution_count": 17,
   "metadata": {},
   "outputs": [
    {
     "data": {
      "text/plain": [
       "0.5109890109890111"
      ]
     },
     "execution_count": 17,
     "metadata": {},
     "output_type": "execute_result"
    }
   ],
   "source": [
    "np.mean(X[:,1])"
   ]
  },
  {
   "cell_type": "code",
   "execution_count": 18,
   "metadata": {},
   "outputs": [
    {
     "data": {
      "text/plain": [
       "0.29566158195163716"
      ]
     },
     "execution_count": 18,
     "metadata": {},
     "output_type": "execute_result"
    }
   ],
   "source": [
    "np.std(X[:,1])"
   ]
  },
  {
   "cell_type": "markdown",
   "metadata": {},
   "source": [
    "## 均值方差归一化 Standardization"
   ]
  },
  {
   "cell_type": "code",
   "execution_count": 19,
   "metadata": {
    "collapsed": true
   },
   "outputs": [],
   "source": [
    "X2 = np.random.randint(0, 100, (50,2))"
   ]
  },
  {
   "cell_type": "code",
   "execution_count": 20,
   "metadata": {
    "collapsed": true
   },
   "outputs": [],
   "source": [
    "X2 = np.array(X2, dtype=float)"
   ]
  },
  {
   "cell_type": "code",
   "execution_count": 21,
   "metadata": {},
   "outputs": [
    {
     "data": {
      "text/plain": [
       "array([[43., 78.],\n",
       "       [42., 98.],\n",
       "       [74., 30.],\n",
       "       [77., 67.],\n",
       "       [19., 62.],\n",
       "       [93., 61.],\n",
       "       [48.,  2.],\n",
       "       [52., 62.],\n",
       "       [88., 43.],\n",
       "       [69., 70.]])"
      ]
     },
     "execution_count": 21,
     "metadata": {},
     "output_type": "execute_result"
    }
   ],
   "source": [
    "X2[:10,:]"
   ]
  },
  {
   "cell_type": "code",
   "execution_count": 22,
   "metadata": {
    "collapsed": true
   },
   "outputs": [],
   "source": [
    "X2[:,0] = (X2[:,0] - np.mean(X2[:,0])) / np.std(X2[:,0])\n",
    "X2[:,1] = (X2[:,1] - np.mean(X2[:,1])) / np.std(X2[:,1])"
   ]
  },
  {
   "cell_type": "code",
   "execution_count": 23,
   "metadata": {},
   "outputs": [
    {
     "data": {
      "image/png": "[encoded data removed]",
      "text/plain": [
       "<matplotlib.figure.Figure at 0x2463615be48>"
      ]
     },
     "metadata": {},
     "output_type": "display_data"
    }
   ],
   "source": [
    "plt.scatter(X2[:,0], X2[:,1])\n",
    "plt.show()"
   ]
  },
  {
   "cell_type": "code",
   "execution_count": 24,
   "metadata": {},
   "outputs": [
    {
     "data": {
      "text/plain": [
       "-6.217248937900877e-17"
      ]
     },
     "execution_count": 24,
     "metadata": {},
     "output_type": "execute_result"
    }
   ],
   "source": [
    "np.mean(X2[:,0])"
   ]
  },
  {
   "cell_type": "code",
   "execution_count": 25,
   "metadata": {},
   "outputs": [
    {
     "data": {
      "text/plain": [
       "0.9999999999999999"
      ]
     },
     "execution_count": 25,
     "metadata": {},
     "output_type": "execute_result"
    }
   ],
   "source": [
    "np.std(X2[:,0])"
   ]
  },
  {
   "cell_type": "code",
   "execution_count": 26,
   "metadata": {},
   "outputs": [
    {
     "data": {
      "text/plain": [
       "-5.440092820663267e-17"
      ]
     },
     "execution_count": 26,
     "metadata": {},
     "output_type": "execute_result"
    }
   ],
   "source": [
    "np.mean(X2[:,1])"
   ]
  },
  {
   "cell_type": "code",
   "execution_count": 27,
   "metadata": {},
   "outputs": [
    {
     "data": {
      "text/plain": [
       "0.9999999999999999"
      ]
     },
     "execution_count": 27,
     "metadata": {},
     "output_type": "execute_result"
    }
   ],
   "source": [
    "np.std(X2[:,1])"
   ]
  }
 ],
 "metadata": {
  "kernelspec": {
   "display_name": "Python 3",
   "language": "python",
   "name": "python3"
  },
  "language_info": {
   "codemirror_mode": {
    "name": "ipython",
    "version": 3
   },
   "file_extension": ".py",
   "mimetype": "text/x-python",
   "name": "python",
   "nbconvert_exporter": "python",
   "pygments_lexer": "ipython3",
   "version": "3.6.3"
  }
 },
 "nbformat": 4,
 "nbformat_minor": 2
}
