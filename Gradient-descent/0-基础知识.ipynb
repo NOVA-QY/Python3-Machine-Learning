{
 "cells": [
  {
   "cell_type": "markdown",
   "metadata": {},
   "source": [
    "## 梯度下降法"
   ]
  },
  {
   "cell_type": "markdown",
   "metadata": {},
   "source": [
    "* 不是一个机器学习算法  \n",
    "* 是一种基于搜索的最优化方法  \n",
    "* 作用：最小化一个损失函数  \n",
    "* 梯度上升法：最大化一个效用函数"
   ]
  },
  {
   "cell_type": "markdown",
   "metadata": {},
   "source": [
    "### 学习率 $\\quad\\eta$"
   ]
  },
  {
   "cell_type": "markdown",
   "metadata": {},
   "source": [
    "* $\\large\\quad\\eta\\quad$称为学习率(learning rate)  \n",
    "* $\\large\\quad\\eta\\quad$的取值影响获得最优解的速度  \n",
    "* $\\large\\quad\\eta\\quad$的取值不合适，甚至得不到最优解  \n",
    "* $\\large\\quad\\eta\\quad$是梯度下降法的一个超参数"
   ]
  },
  {
   "cell_type": "markdown",
   "metadata": {},
   "source": [
    "* 并不是所有的函数都有唯一的极值点  \n",
    "### 解决方案：  \n",
    "  \n",
    "  \n",
    "* 多次运行，随机化初始点  \n",
    "* 梯度下降法的初始点也是一个超参数  "
   ]
  }
 ],
 "metadata": {
  "kernelspec": {
   "display_name": "Python 3",
   "language": "python",
   "name": "python3"
  },
  "language_info": {
   "codemirror_mode": {
    "name": "ipython",
    "version": 3
   },
   "file_extension": ".py",
   "mimetype": "text/x-python",
   "name": "python",
   "nbconvert_exporter": "python",
   "pygments_lexer": "ipython3",
   "version": "3.6.3"
  }
 },
 "nbformat": 4,
 "nbformat_minor": 2
}
