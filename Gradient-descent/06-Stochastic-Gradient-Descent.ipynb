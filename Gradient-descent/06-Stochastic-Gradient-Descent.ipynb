{
 "cells": [
  {
   "cell_type": "markdown",
   "metadata": {
    "collapsed": true
   },
   "source": [
    "## 随机梯度下降法"
   ]
  },
  {
   "cell_type": "code",
   "execution_count": 1,
   "metadata": {
    "collapsed": true
   },
   "outputs": [],
   "source": [
    "import numpy as np\n",
    "import matplotlib.pyplot as plt"
   ]
  },
  {
   "cell_type": "code",
   "execution_count": 2,
   "metadata": {
    "collapsed": true
   },
   "outputs": [],
   "source": [
    "m = 100000\n",
    "\n",
    "x = np.random.normal(size=m)\n",
    "X = x.reshape(-1,1)\n",
    "y = 4.*x + 3. + np.random.normal(0, 3, size=m)"
   ]
  },
  {
   "cell_type": "code",
   "execution_count": 3,
   "metadata": {},
   "outputs": [
    {
     "data": {
      "image/png": "[encoded data removed]",
      "text/plain": [
       "<matplotlib.figure.Figure at 0x22413855320>"
      ]
     },
     "metadata": {},
     "output_type": "display_data"
    }
   ],
   "source": [
    "plt.scatter(x, y)\n",
    "plt.show()"
   ]
  },
  {
   "cell_type": "code",
   "execution_count": 4,
   "metadata": {
    "collapsed": true
   },
   "outputs": [],
   "source": [
    "def J(theta, X_b, y):\n",
    "    try:\n",
    "        return np.sum((y - X_b.dot(theta)) ** 2) / len(y)\n",
    "    except:\n",
    "        return float('inf')\n",
    "    \n",
    "def dJ(theta, X_b, y):\n",
    "    return X_b.T.dot(X_b.dot(theta) - y) * 2. / len(y)\n",
    "\n",
    "def gradient_descent(X_b, y, initial_theta, eta, n_iters=1e4, epsilon=1e-8):\n",
    "\n",
    "    theta = initial_theta\n",
    "    cur_iter = 0\n",
    "\n",
    "    while cur_iter < n_iters:\n",
    "        gradient = dJ(theta, X_b, y)\n",
    "        last_theta = theta\n",
    "        theta = theta - eta * gradient\n",
    "        if (abs(J(theta, X_b, y) - J(last_theta, X_b, y)) < epsilon):\n",
    "            break\n",
    "\n",
    "        cur_iter += 1\n",
    "\n",
    "    return theta"
   ]
  },
  {
   "cell_type": "code",
   "execution_count": 6,
   "metadata": {},
   "outputs": [
    {
     "name": "stdout",
     "output_type": "stream",
     "text": [
      "Wall time: 2.33 s\n"
     ]
    }
   ],
   "source": [
    "%%time\n",
    "X_b = np.hstack([np.ones((len(X), 1)), X])\n",
    "initial_theta = np.zeros(X_b.shape[1])\n",
    "eta = 0.01\n",
    "theta = gradient_descent(X_b, y, initial_theta, eta)"
   ]
  },
  {
   "cell_type": "code",
   "execution_count": 7,
   "metadata": {},
   "outputs": [
    {
     "data": {
      "text/plain": [
       "array([ 3.00091726,  4.00158175])"
      ]
     },
     "execution_count": 7,
     "metadata": {},
     "output_type": "execute_result"
    }
   ],
   "source": [
    "theta"
   ]
  },
  {
   "cell_type": "markdown",
   "metadata": {},
   "source": [
    "### $\\nabla J(\\theta)\\quad=\\quad {\\Large\\frac{2}{m}}\\cdot\n",
    " $$\\begin{pmatrix}\\left.\n",
    " \\displaystyle{\\sum_{i=1}^{m}}(X^{(i)}_b\\theta-y^{(i)})\\cdot X_0^{(i)}\\right.\\\\\n",
    " \\left.\\displaystyle{\\sum_{i=1}^{m}}(X^{(i)}_b\\theta-y^{(i)})\\cdot X_1^{(i)}\\right.\\\\\n",
    " \\left.\\displaystyle{\\sum_{i=1}^{m}}(X^{(i)}_b\\theta-y^{(i)})\\cdot X_2^{(i)}\\right.\\\\\n",
    " \\cdots\\\\\n",
    " \\left.\\displaystyle{\\sum_{i=1}^{m}}(X^{(i)}_b\\theta-y^{(i)})\\cdot X_n^{(i)}\\right.\\\\\n",
    " \\end{pmatrix}$$\\quad=\\quad{\\Large\\frac{2}{m}}\\cdot X_b^T\\cdot(X_b\\theta-y)\n",
    "$"
   ]
  },
  {
   "cell_type": "markdown",
   "metadata": {},
   "source": [
    "## 数学推导：\n"
   ]
  },
  {
   "cell_type": "markdown",
   "metadata": {},
   "source": [
    "### $\\nabla J(\\theta)\\quad=\\quad {\\Large\\frac{2}{m}}\\cdot\n",
    " $$\\begin{pmatrix}\\left.\n",
    " \\displaystyle{\\sum_{i=1}^{m}}(X^{(i)}_b\\theta-y^{(i)})\\cdot X_0^{(i)}\\right.\\\\\n",
    " \\left.\\displaystyle{\\sum_{i=1}^{m}}(X^{(i)}_b\\theta-y^{(i)})\\cdot X_1^{(i)}\\right.\\\\\n",
    " \\left.\\displaystyle{\\sum_{i=1}^{m}}(X^{(i)}_b\\theta-y^{(i)})\\cdot X_2^{(i)}\\right.\\\\\n",
    " \\cdots\\\\\n",
    " \\left.\\displaystyle{\\sum_{i=1}^{m}}(X^{(i)}_b\\theta-y^{(i)})\\cdot X_n^{(i)}\\right.\\\\\n",
    " \\end{pmatrix}$$\\quad=\\quad {\\Large2}\\cdot$$\\begin{pmatrix}\\left.\n",
    " (X^{(i)}_b\\theta-y^{(i)})\\cdot X_0^{(i)}\\right.\\\\\n",
    " \\left.(X^{(i)}_b\\theta-y^{(i)})\\cdot X_1^{(i)}\\right.\\\\\n",
    " \\left.(X^{(i)}_b\\theta-y^{(i)})\\cdot X_2^{(i)}\\right.\\\\\n",
    " \\cdots\\\\\n",
    " \\left.(X^{(i)}_b\\theta-y^{(i)})\\cdot X_n^{(i)}\\right.\\\\\n",
    " \\end{pmatrix}$$\\quad=\\quad 2\\cdot (X_b^{(i)})^T\\cdot (X_b^{(i)}\\theta-y^{(i)})\n",
    "$"
   ]
  },
  {
   "cell_type": "markdown",
   "metadata": {},
   "source": [
    "### 学习率\n",
    "### $\\eta\\quad=\\quad {\\Large\\frac{1}{i\\_iters}}$\n",
    "#### 随着循环次数的增加，学习率会逐渐减小\n",
    "### 优化：（a、b为两个超参数）\n",
    "### $\\eta\\quad=\\quad {\\Large\\frac{1}{i\\_iters+b}}$  \n",
    "### $\\eta\\quad=\\quad {\\Large\\frac{a}{i\\_iters+b}}$"
   ]
  },
  {
   "cell_type": "markdown",
   "metadata": {},
   "source": [
    "## 随机梯度下降法"
   ]
  },
  {
   "cell_type": "code",
   "execution_count": 8,
   "metadata": {
    "collapsed": true
   },
   "outputs": [],
   "source": [
    "def dJ_sgd(theta, X_b_i, y_i):\n",
    "    return X_b_i.T.dot(X_b_i.dot(theta) - y_i) * 2."
   ]
  },
  {
   "cell_type": "code",
   "execution_count": 9,
   "metadata": {
    "collapsed": true
   },
   "outputs": [],
   "source": [
    "def sgd(X_b, y, initial_theta, n_iters):\n",
    "    t0 = 5\n",
    "    t1 = 50\n",
    "    \n",
    "    def learning_rate(t):\n",
    "        return t0 / (t + t1)\n",
    "    theta = initial_theta\n",
    "    for cur_iter in range(n_iters):\n",
    "        rand_i = np.random.randint(len(X_b))\n",
    "        gradient = dJ_sgd(theta, X_b[rand_i], y[rand_i])\n",
    "        theta = theta - learning_rate(cur_iter) * gradient\n",
    "    return theta"
   ]
  },
  {
   "cell_type": "code",
   "execution_count": 13,
   "metadata": {},
   "outputs": [
    {
     "name": "stdout",
     "output_type": "stream",
     "text": [
      "Wall time: 351 ms\n"
     ]
    }
   ],
   "source": [
    "%%time\n",
    "X_b = np.hstack([np.ones((len(X), 1)), X])\n",
    "initial_theta = np.zeros(X_b.shape[1])\n",
    "theta = sgd(X_b, y, initial_theta, n_iters=len(X_b)//3)"
   ]
  },
  {
   "cell_type": "code",
   "execution_count": 14,
   "metadata": {},
   "outputs": [
    {
     "data": {
      "text/plain": [
       "array([ 3.00601455,  3.99730344])"
      ]
     },
     "execution_count": 14,
     "metadata": {},
     "output_type": "execute_result"
    }
   ],
   "source": [
    "theta"
   ]
  }
 ],
 "metadata": {
  "kernelspec": {
   "display_name": "Python 3",
   "language": "python",
   "name": "python3"
  },
  "language_info": {
   "codemirror_mode": {
    "name": "ipython",
    "version": 3
   },
   "file_extension": ".py",
   "mimetype": "text/x-python",
   "name": "python",
   "nbconvert_exporter": "python",
   "pygments_lexer": "ipython3",
   "version": "3.6.3"
  }
 },
 "nbformat": 4,
 "nbformat_minor": 2
}
