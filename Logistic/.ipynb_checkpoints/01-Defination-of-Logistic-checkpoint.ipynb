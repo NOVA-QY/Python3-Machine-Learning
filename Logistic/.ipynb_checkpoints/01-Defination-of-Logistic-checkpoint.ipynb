{
 "cells": [
  {
   "cell_type": "markdown",
   "metadata": {
    "collapsed": true
   },
   "source": [
    "#### 逻辑回归：解决分类问题  \n",
    "#### 将样本发生的特征和样本发生的概率联系起来，概率为数"
   ]
  },
  {
   "cell_type": "markdown",
   "metadata": {},
   "source": [
    "一般的机器学习：$\\large\\hat{y}=f(x)$  \n",
    "逻辑回归：$\\quad\\quad\\large\\hat{p}=f(x)$  \n",
    "$$ \\large \\hat{y}=\\left\\{\n",
    "\\begin{aligned}\n",
    "1,\\quad\\quad\\hat{p}>=0.5 \\\\\n",
    "0,\\quad\\quad\\hat{p}<=0.5\n",
    "\\end{aligned}\n",
    "\\right.\n",
    "$$\n",
    "逻辑回归可以同时看作是回归算法、分类算法  \n",
    "通常作为$\\textbf{分类算法}$使用，常用来解决二分类问题"
   ]
  },
  {
   "cell_type": "markdown",
   "metadata": {},
   "source": [
    "对于一般的问题：$\\large \\hat{y}=f(x)$ \n",
    "  \n",
    "  \n",
    "相当于：$\\quad\\quad\\large \\hat{y} = \\theta^T\\cdot x_b$,其中$\\quad\\large\\theta^T$对应相应特征的参数，$\\large x_b$对应样本  \n",
    "但该函数的值域在(-inf,inf)，而概率值域为[0,1]，因此就要用$\\textbf{激活函数}$将函数的值域转换到0、1之间，通常用到的激活函数为$\\textbf{Sigmod函数}$，相应地，函数转换为$\\large\\hat{p} = \\sigma(\\theta^T\\cdot x_b)$  "
   ]
  },
  {
   "cell_type": "markdown",
   "metadata": {},
   "source": [
    "## Sigmod函数"
   ]
  },
  {
   "cell_type": "markdown",
   "metadata": {},
   "source": [
    "表达式：$\\Large \\sigma(t) = \\Large\\frac{1}{1+e^{-t}}$"
   ]
  },
  {
   "cell_type": "code",
   "execution_count": 1,
   "metadata": {
    "collapsed": true
   },
   "outputs": [],
   "source": [
    "import numpy as np\n",
    "import matplotlib.pyplot as plt"
   ]
  },
  {
   "cell_type": "code",
   "execution_count": 2,
   "metadata": {
    "collapsed": true
   },
   "outputs": [],
   "source": [
    "def sigmod(t):\n",
    "    return 1/(1+np.exp(-t))"
   ]
  },
  {
   "cell_type": "code",
   "execution_count": 3,
   "metadata": {},
   "outputs": [
    {
     "data": {
      "image/png": "[encoded data removed]",
      "text/plain": [
       "<Figure size 432x288 with 1 Axes>"
      ]
     },
     "metadata": {},
     "output_type": "display_data"
    }
   ],
   "source": [
    "x = np.linspace(-10, 10, 500)\n",
    "y = sigmod(x)\n",
    "\n",
    "plt.plot(x, y)\n",
    "plt.show()"
   ]
  },
  {
   "cell_type": "markdown",
   "metadata": {},
   "source": [
    "因此得到如下等式：  \n",
    "$\\Large{\\hat{p} = \\sigma(\\theta^T\\cdot x_b)}={\\Huge\\frac{1}{1+e^{\\theta^T\\cdot x_b}}}$"
   ]
  }
 ],
 "metadata": {
  "kernelspec": {
   "display_name": "Python 3",
   "language": "python",
   "name": "python3"
  },
  "language_info": {
   "codemirror_mode": {
    "name": "ipython",
    "version": 3
   },
   "file_extension": ".py",
   "mimetype": "text/x-python",
   "name": "python",
   "nbconvert_exporter": "python",
   "pygments_lexer": "ipython3",
   "version": "3.6.3"
  }
 },
 "nbformat": 4,
 "nbformat_minor": 2
}
