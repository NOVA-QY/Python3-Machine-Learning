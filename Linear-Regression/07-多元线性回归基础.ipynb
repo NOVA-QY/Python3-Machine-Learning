{
 "cells": [
  {
   "cell_type": "markdown",
   "metadata": {},
   "source": [
    "## 多元线性回归"
   ]
  },
  {
   "cell_type": "markdown",
   "metadata": {},
   "source": [
    "目标：使 $\\Large\\quad\\displaystyle\\sum_{i=1}^{m}(y^{(i)}-\\hat{y}^{(i)})^{2}\\quad$尽可能小  \n",
    "$\\Large\\hat{y}^{(i)}\\quad=\\quad \\theta_0+\\theta_1X_1^{(i)}+\\theta_2X_2^{(i)}+...+\\theta_nX_n^{(i)}$  \n",
    "找到 $\\Large\\theta_0,\\theta_1,\\theta_2,..,\\theta_n，使得\\Large\\quad\\displaystyle\\sum_{i=1}^{m}(y^{(i)}-\\hat{y}^{(i)})^{2}\\quad$尽可能小"
   ]
  },
  {
   "cell_type": "markdown",
   "metadata": {},
   "source": [
    "令 &nbsp;&nbsp;&nbsp; $\\large\\theta= (\\theta_0,\\theta_1,\\theta_2,..,\\theta_n)^T$  \n",
    "  \n",
    "&nbsp;&nbsp;&nbsp;&nbsp;&nbsp;&nbsp;&nbsp;&nbsp;$\\large\\hat{y}^{(i)}= \\theta_0X_0^{(i)}+\\theta_1X_1^{(i)}+\\theta_2X_2^{(i)}+...+\\theta_nX_n^{(i)},X_0^{(i)}\\equiv 1$   \n",
    "  \n",
    "&nbsp;&nbsp;&nbsp;&nbsp;&nbsp;&nbsp;&nbsp;&nbsp;$\\large X^{(i)}=(X_0^{(i)},X_1^{(i)},X_2^{(i)},...,X_n^{(i)})$    \n",
    "  \n",
    "&nbsp;&nbsp;&nbsp;&nbsp;&nbsp;&nbsp;&nbsp;&nbsp;$\\large \\hat{y}^{(i)}=X^{(i)}\\cdot \\theta$"
   ]
  },
  {
   "cell_type": "markdown",
   "metadata": {},
   "source": [
    "$\\Large X_b=\n",
    "$$\\large\\begin{pmatrix}\n",
    "1 & X_1^{(1)} & X_2^{(1)} & \\cdots X_n^{(1)}\\\\\n",
    "1 & X_1^{(2)} & X_2^{(2)} & \\cdots X_n^{(2)}\\\\\n",
    " \\cdots& & &\\cdots\\\\\n",
    "1 & X_1^{(m)} & X_2^{(m)} & \\cdots X_n^{(m)}\\\\\n",
    " \\end{pmatrix}$$\\quad\\quad \\large\\theta=$$\\large\\begin{pmatrix}\\theta_0 \\\\  \\theta_1\\\\ \\theta_2\\\\ \\cdots \\\\ \\theta_n \\end{pmatrix}$$\n",
    " $    \n",
    "   \n",
    " $\\Large\\hat{y}=X_b\\cdot\\theta$  "
   ]
  },
  {
   "cell_type": "markdown",
   "metadata": {},
   "source": [
    " ### 目标"
   ]
  },
  {
   "cell_type": "markdown",
   "metadata": {},
   "source": [
    "使 $\\large(y-X_b\\cdot\\theta)^T(y-X_b\\cdot\\theta)$尽可能小  \n",
    "## 多元线性回归的正规方程解(Normal Equation)  \n",
    "$\\large\\theta=(X_b^TX_b)^{-1}X_b^Ty$"
   ]
  }
 ],
 "metadata": {
  "kernelspec": {
   "display_name": "Python 3",
   "language": "python",
   "name": "python3"
  },
  "language_info": {
   "codemirror_mode": {
    "name": "ipython",
    "version": 3
   },
   "file_extension": ".py",
   "mimetype": "text/x-python",
   "name": "python",
   "nbconvert_exporter": "python",
   "pygments_lexer": "ipython3",
   "version": "3.6.3"
  }
 },
 "nbformat": 4,
 "nbformat_minor": 2
}
