{
 "cells": [
  {
   "cell_type": "markdown",
   "metadata": {},
   "source": [
    "## 简单线性回归"
   ]
  },
  {
   "cell_type": "markdown",
   "metadata": {},
   "source": [
    "假设我们找到了最佳拟合直线的方程 $\\quad y = ax + b$  \n",
    "则对于每一个样本点$\\quad x^{(i)}$  \n",
    "根据我们的直线方程，预测值为：  \n",
    "$\\quad \\hat{y}^{(i)}\\quad=\\quad ax^{(i)}+b$  \n",
    "真值为：$\\quad y^{(i)}$  \n",
    "目标：找到a和b，使得$\\quad\\displaystyle{\\sum_{i=1}^{m}(y^{(i)}-ax^{(i)}-b^{2})}$尽可能小  \n",
    "典型的最小二乘法问题：最小化误差的平方 \n",
    "## 最小二乘法  \n",
    "$\\Large{\\quad a\\quad=\\quad \\frac{\\displaystyle\\sum_{i=1}^{m}(x^{(i)}-\\bar{x})(y^{(i)}-\\bar{y})}{\\displaystyle\\sum_{i=1}^{m}(x^{(i)}-\\bar{x})^2}\\quad\\quad\\quad  b\\quad=\\bar{y}-a\\bar{x}}$"
   ]
  },
  {
   "cell_type": "code",
   "execution_count": null,
   "metadata": {
    "collapsed": true
   },
   "outputs": [],
   "source": []
  }
 ],
 "metadata": {
  "kernelspec": {
   "display_name": "Python 3",
   "language": "python",
   "name": "python3"
  },
  "language_info": {
   "codemirror_mode": {
    "name": "ipython",
    "version": 3
   },
   "file_extension": ".py",
   "mimetype": "text/x-python",
   "name": "python",
   "nbconvert_exporter": "python",
   "pygments_lexer": "ipython3",
   "version": "3.6.3"
  }
 },
 "nbformat": 4,
 "nbformat_minor": 2
}
