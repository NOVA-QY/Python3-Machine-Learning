{
 "cells": [
  {
   "cell_type": "markdown",
   "metadata": {},
   "source": [
    "## 损失函数"
   ]
  },
  {
   "cell_type": "markdown",
   "metadata": {},
   "source": [
    "大致上，可以有如下思路：  \n",
    "$$ \\large cost=\\left\\{\n",
    "\\begin{aligned}\n",
    "如果y=1，p越小，cost越大\\\\\n",
    "如果y=0，p越大，cost越大\n",
    "\\end{aligned}\n",
    "\\right.\n",
    "$$\n",
    "进一步转化为：  \n",
    "$$ \\large cost=\\left\\{\n",
    "\\begin{aligned}\n",
    "-log(\\hat{p})\\quad if\\quad y=1\\\\\n",
    "-log(1-\\hat{p})\\quad if\\quad y=0\n",
    "\\end{aligned}\n",
    "\\right.\n",
    "$$  \n",
    "进一步可以综合为一个函数：  \n",
    "$$ \\large cost = -ylog(\\hat{p})-(1-y)log(1-\\hat{p}) $$  \n",
    "综合所有样例，得到：  \n",
    "$$\\large J(\\theta) = \\Large{-\\frac{1}{m}\\displaystyle{\\sum_{i=1}^{m}}y^{(i)}}log(\\hat{p}^{(i)})+(1-y^{(i)})log(1-\\hat{p}^{(i)})$$  \n",
    "将$\\quad\\large \\hat{p}^{(i)} = \\sigma(X_b^{(i)}\\theta)\\quad$带入上式得到：  \n",
    "$$\\large J(\\theta) = \\Large{-\\frac{1}{m}\\displaystyle{\\sum_{i=1}^{m}}y^{(i)}}log(\\sigma(X_b^{(i)}\\theta))+(1-y^{(i)})log(1-\\sigma(X_b^{(i)}\\theta))$$ \n",
    "可用$\\textbf{梯度下降法}$求出$\\quad\\large\\theta\\quad$对应值"
   ]
  }
 ],
 "metadata": {
  "kernelspec": {
   "display_name": "Python 3",
   "language": "python",
   "name": "python3"
  },
  "language_info": {
   "codemirror_mode": {
    "name": "ipython",
    "version": 3
   },
   "file_extension": ".py",
   "mimetype": "text/x-python",
   "name": "python",
   "nbconvert_exporter": "python",
   "pygments_lexer": "ipython3",
   "version": "3.6.3"
  }
 },
 "nbformat": 4,
 "nbformat_minor": 2
}
